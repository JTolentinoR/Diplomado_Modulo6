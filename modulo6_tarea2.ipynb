{
 "cells": [
  {
   "cell_type": "code",
   "execution_count": 1,
   "id": "723cbd70-95ef-4038-a16d-bbc53088d5fc",
   "metadata": {},
   "outputs": [
    {
     "name": "stderr",
     "output_type": "stream",
     "text": [
      "2025-04-26 11:44:06.952679: I tensorflow/core/platform/cpu_feature_guard.cc:182] This TensorFlow binary is optimized to use available CPU instructions in performance-critical operations.\n",
      "To enable the following instructions: SSE4.1 SSE4.2 AVX AVX2 FMA, in other operations, rebuild TensorFlow with the appropriate compiler flags.\n"
     ]
    }
   ],
   "source": [
    "import os\n",
    "from PIL import Image\n",
    "import numpy as np\n",
    "import pandas as pd\n",
    "import matplotlib.pyplot as plt\n",
    "\n",
    "from sklearn.model_selection import train_test_split\n",
    "from sklearn.metrics import classification_report , confusion_matrix , accuracy_score, auc\n",
    "\n",
    "import tensorflow as tf\n",
    "from tensorflow.keras.layers import Flatten, Conv2D, MaxPool2D, Dense, Dropout\n",
    "from tensorflow.keras.models import Sequential\n",
    "from tensorflow.keras.callbacks import EarlyStopping"
   ]
  },
  {
   "cell_type": "code",
   "execution_count": 2,
   "id": "0bc4c3ab-f53b-4f0f-8e4c-0a51f2580c57",
   "metadata": {},
   "outputs": [],
   "source": [
    "path = './sports_celebrity_images'\n",
    "celebrities = os.listdir(path)\n",
    "\n",
    "counter = 1\n",
    "celebrity_labels = {}\n",
    "celebrity_image_paths = {}\n",
    "images = []\n",
    "labels = []\n",
    "\n",
    "celebrities = os.listdir(path)\n",
    "for name in celebrities:\n",
    "    celebrity_labels[name] = counter\n",
    "    celebrity_image_paths[name] = os.listdir(f'{path}/{name}/')[:100]\n",
    "    counter += 1\n",
    "\n",
    "df = pd.DataFrame(celebrity_image_paths)\n",
    "# display(df)\n",
    "\n",
    "for row in range(df.shape[0]):\n",
    "    for column in range(df.shape[1]):\n",
    "        name = df.columns[column]\n",
    "        image_name = df.iloc[row, column]\n",
    "        image = Image.open(f'{path}/{name}/{image_name}')\n",
    "        image = image.resize((512, 512))\n",
    "        images.append(image)\n",
    "        labels.append(celebrity_labels[name])\n",
    "\n",
    "# for name in celebrities:\n",
    "#     celebrity_labels[name] = counter\n",
    "#     counter += 1\n",
    "#     for image_path in os.listdir(f'{path}/{name}')[:100]:\n",
    "#         image = Image.open(f'{path}/{name}/{image_path}')\n",
    "#         image = image.resize((512, 512))\n",
    "#         images.append(image)\n",
    "#         labels.append(celebrity_labels[name])"
   ]
  },
  {
   "cell_type": "code",
   "execution_count": 3,
   "id": "cd6db105-4095-4d2b-9ace-50fc04ba8aae",
   "metadata": {},
   "outputs": [],
   "source": [
    "# index = 4\n",
    "# celebrity_search = {i:j for j, i in celebrity_labels.items()}\n",
    "# plt.imshow(images[index])\n",
    "# print(celebrity_search[labels[index]], ':', labels[index])"
   ]
  },
  {
   "cell_type": "code",
   "execution_count": 3,
   "id": "fd3140b2-e2d0-4cc2-a9ff-53c194565993",
   "metadata": {},
   "outputs": [],
   "source": [
    "x, y = np.array(images), np.array(labels)\n",
    "x_train, x_test, y_train, y_test = train_test_split(x, y, train_size=0.9, test_size=0.1, random_state=5, shuffle=False)\n",
    "x_train, x_test = x_train/255, x_test/255\n",
    "\n",
    "def OneHotEncoder(list):\n",
    "    y_train_ohe = []\n",
    "    for i in list:\n",
    "        temp = np.zeros(shape=(4,))\n",
    "        temp[i-1] = 1\n",
    "        y_train_ohe.append(temp)\n",
    "    y_train_ohe = np.array(y_train_ohe)\n",
    "    return y_train_ohe\n",
    "    \n",
    "y_train = OneHotEncoder(y_train)\n",
    "y_test = OneHotEncoder(y_test)"
   ]
  },
  {
   "cell_type": "code",
   "execution_count": 4,
   "id": "67f0b3d3-0f58-4392-a5ad-6b02f39c93e7",
   "metadata": {},
   "outputs": [
    {
     "name": "stderr",
     "output_type": "stream",
     "text": [
      "2025-04-26 11:38:01.214231: I tensorflow/core/common_runtime/process_util.cc:146] Creating new thread pool with default inter op setting: 2. Tune using inter_op_parallelism_threads for best performance.\n"
     ]
    },
    {
     "name": "stdout",
     "output_type": "stream",
     "text": [
      "Model: \"sequential\"\n",
      "_________________________________________________________________\n",
      " Layer (type)                Output Shape              Param #   \n",
      "=================================================================\n",
      " conv2d (Conv2D)             (None, 510, 510, 16)      448       \n",
      "                                                                 \n",
      " max_pooling2d (MaxPooling2D  (None, 255, 255, 16)     0         \n",
      " )                                                               \n",
      "                                                                 \n",
      " conv2d_1 (Conv2D)           (None, 253, 253, 32)      4640      \n",
      "                                                                 \n",
      " max_pooling2d_1 (MaxPooling  (None, 126, 126, 32)     0         \n",
      " 2D)                                                             \n",
      "                                                                 \n",
      " conv2d_2 (Conv2D)           (None, 124, 124, 64)      18496     \n",
      "                                                                 \n",
      " max_pooling2d_2 (MaxPooling  (None, 62, 62, 64)       0         \n",
      " 2D)                                                             \n",
      "                                                                 \n",
      " flatten (Flatten)           (None, 246016)            0         \n",
      "                                                                 \n",
      " dense (Dense)               (None, 128)               31490176  \n",
      "                                                                 \n",
      " dropout (Dropout)           (None, 128)               0         \n",
      "                                                                 \n",
      " dense_1 (Dense)             (None, 64)                8256      \n",
      "                                                                 \n",
      " dense_2 (Dense)             (None, 32)                2080      \n",
      "                                                                 \n",
      " dense_3 (Dense)             (None, 16)                528       \n",
      "                                                                 \n",
      " dense_4 (Dense)             (None, 8)                 136       \n",
      "                                                                 \n",
      " dense_5 (Dense)             (None, 4)                 36        \n",
      "                                                                 \n",
      "=================================================================\n",
      "Total params: 31,524,796\n",
      "Trainable params: 31,524,796\n",
      "Non-trainable params: 0\n",
      "_________________________________________________________________\n"
     ]
    }
   ],
   "source": [
    "input_shape = x_train.shape[1:]\n",
    "\n",
    "model = Sequential()\n",
    "model.add( Conv2D(16, kernel_size=(3, 3), input_shape=input_shape, activation='relu') )\n",
    "model.add( MaxPool2D(pool_size=(2, 2)) )\n",
    "model.add( Conv2D(32, kernel_size=(3, 3), activation='relu') )\n",
    "model.add( MaxPool2D(pool_size=(2, 2)) )\n",
    "\n",
    "model.add( Flatten() )\n",
    "model.add( Dense(128) )\n",
    "model.add( Dropout(0.2) )\n",
    "model.add( Dense(4, activation='softmax') )\n",
    "\n",
    "model.summary()"
   ]
  },
  {
   "cell_type": "code",
   "execution_count": 5,
   "id": "5bd3f3d5-1a19-40ef-b2b5-0987e79c6cd4",
   "metadata": {},
   "outputs": [
    {
     "name": "stdout",
     "output_type": "stream",
     "text": [
      "Epoch 1/30\n",
      "12/12 - 26s - loss: 18.7051 - accuracy: 0.2889 - val_loss: 1.3045 - val_accuracy: 0.3750 - 26s/epoch - 2s/step\n",
      "Epoch 2/30\n",
      "12/12 - 21s - loss: 1.2681 - accuracy: 0.4750 - val_loss: 1.2820 - val_accuracy: 0.3250 - 21s/epoch - 2s/step\n",
      "Epoch 3/30\n",
      "12/12 - 20s - loss: 0.9591 - accuracy: 0.6083 - val_loss: 1.1413 - val_accuracy: 0.5250 - 20s/epoch - 2s/step\n",
      "Epoch 4/30\n",
      "12/12 - 20s - loss: 0.5915 - accuracy: 0.8472 - val_loss: 1.5015 - val_accuracy: 0.5250 - 20s/epoch - 2s/step\n",
      "Epoch 5/30\n",
      "12/12 - 20s - loss: 0.2663 - accuracy: 0.9167 - val_loss: 1.3244 - val_accuracy: 0.5750 - 20s/epoch - 2s/step\n",
      "Epoch 6/30\n",
      "12/12 - 20s - loss: 0.0747 - accuracy: 0.9917 - val_loss: 1.4804 - val_accuracy: 0.5750 - 20s/epoch - 2s/step\n"
     ]
    }
   ],
   "source": [
    "batch_size = 32\n",
    "epochs = 30\n",
    "callback = EarlyStopping(monitor='val_loss', patience=3)\n",
    "\n",
    "model.compile( optimizer='adam', loss='categorical_crossentropy', metrics=['accuracy'] )\n",
    "history = model.fit(\n",
    "    x = x_train,\n",
    "    y = y_train,\n",
    "    validation_data = (x_test, y_test),\n",
    "    shuffle = True,\n",
    "    batch_size = batch_size,\n",
    "    epochs = epochs,\n",
    "    verbose = 2,\n",
    "    callbacks = callback\n",
    ")"
   ]
  },
  {
   "cell_type": "code",
   "execution_count": 6,
   "id": "d312892b-e73e-4199-8bee-0f5e3f9b70d4",
   "metadata": {},
   "outputs": [
    {
     "data": {
      "image/png": "[encoded data removed]",
      "text/plain": [
       "<Figure size 640x480 with 1 Axes>"
      ]
     },
     "metadata": {},
     "output_type": "display_data"
    }
   ],
   "source": [
    "loss = history.history['loss']\n",
    "val_loss = history.history['val_loss']\n",
    "epochs = range(1, len(loss)+1)\n",
    "\n",
    "fig, ax = plt.subplots()\n",
    "ax.plot(epochs, loss, label='Training loss')\n",
    "ax.plot(epochs, val_loss, label='Validation loss')\n",
    "plt.legend()\n",
    "ax.set_xlabel('Epochs')\n",
    "ax.set_ylabel('Loss')\n",
    "ax.set_xticks(epochs)\n",
    "plt.show()"
   ]
  },
  {
   "cell_type": "code",
   "execution_count": 7,
   "id": "466ad85f-a674-4d1f-bcb2-0f9d9e159df1",
   "metadata": {},
   "outputs": [
    {
     "name": "stdout",
     "output_type": "stream",
     "text": [
      "2/2 [==============================] - 1s 191ms/step\n"
     ]
    },
    {
     "data": {
      "text/plain": [
       "array([[5, 4, 1, 0],\n",
       "       [1, 7, 2, 0],\n",
       "       [0, 1, 8, 1],\n",
       "       [3, 1, 3, 3]])"
      ]
     },
     "execution_count": 7,
     "metadata": {},
     "output_type": "execute_result"
    }
   ],
   "source": [
    "predictions = model.predict(x_test)\n",
    "y_test = np.argmax(y_test, axis=1)\n",
    "predictions = np.argmax(predictions, axis=1)\n",
    "confusion_matrix(y_test, predictions)"
   ]
  },
  {
   "cell_type": "code",
   "execution_count": 9,
   "id": "f3210ca9-479e-42f8-864c-ad2e2f0ded46",
   "metadata": {},
   "outputs": [],
   "source": [
    "model.save('best_classification.keras')"
   ]
  }
 ],
 "metadata": {
  "kernelspec": {
   "display_name": "Python 3 (ipykernel)",
   "language": "python",
   "name": "python3"
  },
  "language_info": {
   "codemirror_mode": {
    "name": "ipython",
    "version": 3
   },
   "file_extension": ".py",
   "mimetype": "text/x-python",
   "name": "python",
   "nbconvert_exporter": "python",
   "pygments_lexer": "ipython3",
   "version": "3.11.5"
  }
 },
 "nbformat": 4,
 "nbformat_minor": 5
}
